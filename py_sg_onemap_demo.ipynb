{
 "cells": [
  {
   "cell_type": "code",
   "execution_count": null,
   "metadata": {},
   "outputs": [],
   "source": [
    "%matplotlib inline\n",
    "import py_sg_map\n",
    "import matplotlib.pyplot as plt\n",
    "import importlib\n",
    "import numpy as np\n",
    "import pandas as pd"
   ]
  },
  {
   "cell_type": "code",
   "execution_count": null,
   "metadata": {},
   "outputs": [],
   "source": [
    "kml_file = 'data/national-map-polygon-kml.kml'\n",
    "map_polygon = py_sg_map.GeoDataSg(kml_file)\n",
    "kml_file = 'data/national-map-line-kml.kml'\n",
    "map_lines = py_sg_map.GeoDataSg(kml_file)\n",
    "kml_file = 'data/G_MP14_RAIL_LI.kml'\n",
    "map_mrt_lines = py_sg_map.GeoDataSg(kml_file)   \n",
    "kml_file = 'data/G_MP14_RAIL_STN_PL.kml'\n",
    "map_stations = py_sg_map.GeoDataSg(kml_file)\n",
    "kml_file = 'data/singapore-residents-by-subzone-age-group-and-sex-jun-2017-gender-kml.kml'\n",
    "map_subzones = py_sg_map.GeoDataSg(kml_file)"
   ]
  },
  {
   "cell_type": "code",
   "execution_count": null,
   "metadata": {},
   "outputs": [],
   "source": [
    "fig,ax = plt.subplots(figsize = (16,12))\n",
    "map_lines.add_lines_to_plot(ax,colors = 'green',linewidths = 0.5)\n",
    "map_stations.add_lines_to_plot(ax,colors = 'red',linewidths = 0.5)\n",
    "map_mrt_lines.add_lines_to_plot(ax,colors = 'black',linewidths = 0.5)\n",
    "map_polygon.add_lines_to_plot(ax,colors = 'blue',linewidths = 0.5)\n",
    "map_subzones.add_lines_to_plot(ax,colors = 'yellow',linewidths = 0.5)\n",
    "ax.set_xlabel('Longitude')\n",
    "ax.set_ylabel('Latitude')\n",
    "#plt.savefig('map.pdf',dpi=300)"
   ]
  },
  {
   "cell_type": "code",
   "execution_count": null,
   "metadata": {},
   "outputs": [],
   "source": [
    "importlib.reload(py_sg_map)\n",
    "kml_file = 'data/singapore-residents-by-subzone-age-group-and-sex-jun-2017-gender-kml.kml'\n",
    "map_subzones = py_sg_map.GeoDataSg(kml_file)\n",
    "fig,ax = plt.subplots(figsize = (16,12))\n",
    "\n",
    "p = map_subzones.add_patches_to_plot(ax,map_subzones.df['TOTAL'])\n",
    "map_subzones.add_lines_to_plot(ax,colors = 'black',linewidths = 0.5)\n",
    "\n",
    "p.set_clim([0,50000])\n",
    "ax.set_xlabel('Longitude')\n",
    "ax.set_ylabel('Latitude')"
   ]
  }
 ],
 "metadata": {
  "kernelspec": {
   "display_name": "Python 3",
   "language": "python",
   "name": "python3"
  },
  "language_info": {
   "codemirror_mode": {
    "name": "ipython",
    "version": 3
   },
   "file_extension": ".py",
   "mimetype": "text/x-python",
   "name": "python",
   "nbconvert_exporter": "python",
   "pygments_lexer": "ipython3",
   "version": "3.6.3"
  }
 },
 "nbformat": 4,
 "nbformat_minor": 2
}
